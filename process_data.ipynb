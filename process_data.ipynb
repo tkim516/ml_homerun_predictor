{
 "cells": [
  {
   "cell_type": "code",
   "execution_count": null,
   "metadata": {},
   "outputs": [
    {
     "name": "stdout",
     "output_type": "stream",
     "text": [
      "['plate_x', 'plate_z', 'pitch_mph', 'launch_speed', 'launch_angle', 'LF_Dim', 'CF_Dim', 'RF_Dim', 'LF_W', 'CF_W', 'RF_W', 'Cover_Dome', 'Cover_Outdoor', 'Cover_Roof', 'is_batter_lefty_0', 'is_batter_lefty_1', 'is_pitcher_lefty_0', 'is_pitcher_lefty_1', 'bb_type_fly_ball', 'bb_type_ground_ball', 'bb_type_line_drive', 'bb_type_popup', 'bearing_center', 'bearing_left', 'bearing_right', 'pitch_name_4-Seam Fastball', 'pitch_name_Changeup', 'pitch_name_Curveball', 'pitch_name_Cutter', 'pitch_name_Forkball', 'pitch_name_Knuckle Curve', 'pitch_name_Sinker', 'pitch_name_Slider', 'pitch_name_Split-Finger', 'inning_1', 'inning_2', 'inning_3', 'inning_4', 'inning_5', 'inning_6', 'inning_7', 'inning_8', 'inning_9', 'inning_10', 'inning_11', 'inning_12', 'inning_13', 'outs_when_up_0', 'outs_when_up_1', 'outs_when_up_2', 'balls_0', 'balls_1', 'balls_2', 'balls_3', 'strikes_0', 'strikes_1', 'strikes_2']\n"
     ]
    }
   ],
   "source": [
    "import pandas as pd   \n",
    "import numpy as np\n",
    "\n",
    "df_train = pd.read_csv('train.csv')\n",
    "df_test = pd.read_csv('test.csv')\n",
    "\n",
    "X = df_train.drop(columns='is_home_run').copy()\n",
    "y = df_train['is_home_run'].copy()\n",
    "\n",
    "df_park = pd.read_csv('park_dimensions.csv')\n",
    "X_merged = X.merge(df_park, on=\"park\", how=\"left\").copy()\n",
    "\n",
    "columns_to_drop = [\n",
    "  'park',\n",
    "  'bip_id',\n",
    "  'game_date', # Include?\n",
    "  'home_team', # Include?\n",
    "  'away_team', # Include?\n",
    "  'batter_team', # Include?\n",
    "  'NAME',\n",
    "  'batter_name', # Include?\n",
    "  'pitcher_name', # Include?\n",
    "  'batter_id',\n",
    "  'pitcher_id',\n",
    "  'bb_type',\n",
    "]\n",
    "\n",
    "cat_vars = [\n",
    "  'Cover',\n",
    "  'is_batter_lefty',\n",
    "  'is_pitcher_lefty',\n",
    "  'bb_type',\n",
    "  'bearing',\n",
    "  'pitch_name',\n",
    "  'inning',\n",
    "  'outs_when_up',\n",
    "  'balls',\n",
    "  'strikes',\n",
    "]\n",
    "\n",
    "X_merged['launch_speed'] = X_merged['launch_speed'].fillna(0)\n",
    "X_merged['launch_angle'] = X_merged['launch_angle'].fillna(0)\n",
    "\n",
    "X = X_merged.drop(columns=columns_to_drop).copy()\n",
    "X_encoded = pd.get_dummies(X, columns=cat_vars)\n",
    "print(X_encoded.columns.to_list())"
   ]
  }
 ],
 "metadata": {
  "kernelspec": {
   "display_name": "Python 3",
   "language": "python",
   "name": "python3"
  },
  "language_info": {
   "codemirror_mode": {
    "name": "ipython",
    "version": 3
   },
   "file_extension": ".py",
   "mimetype": "text/x-python",
   "name": "python",
   "nbconvert_exporter": "python",
   "pygments_lexer": "ipython3",
   "version": "3.12.2"
  }
 },
 "nbformat": 4,
 "nbformat_minor": 2
}
